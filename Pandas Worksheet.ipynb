{
 "cells": [
  {
   "cell_type": "code",
   "execution_count": 3,
   "id": "e2335db7",
   "metadata": {},
   "outputs": [],
   "source": [
    "import numpy as np\n",
    "import pandas as pd\n",
    "\n",
    "labels_list = [\"Ali\",\"Veli\",\"Ayşe\",\"Fatma\"]\n",
    "\n",
    "dataList = [12,20,30,45]"
   ]
  },
  {
   "cell_type": "code",
   "execution_count": 4,
   "id": "95cb89dd",
   "metadata": {},
   "outputs": [
    {
     "data": {
      "text/plain": [
       "Ali      12\n",
       "Veli     20\n",
       "Ayşe     30\n",
       "Fatma    45\n",
       "dtype: int64"
      ]
     },
     "execution_count": 4,
     "metadata": {},
     "output_type": "execute_result"
    }
   ],
   "source": [
    "pd.Series(dataList,labels_list)"
   ]
  },
  {
   "cell_type": "code",
   "execution_count": 5,
   "id": "6e3d0b76",
   "metadata": {},
   "outputs": [
    {
     "data": {
      "text/plain": [
       "0    12\n",
       "1    20\n",
       "2    30\n",
       "3    45\n",
       "dtype: int64"
      ]
     },
     "execution_count": 5,
     "metadata": {},
     "output_type": "execute_result"
    }
   ],
   "source": [
    "pd.Series(dataList)"
   ]
  },
  {
   "cell_type": "code",
   "execution_count": 8,
   "id": "658f1e79",
   "metadata": {},
   "outputs": [],
   "source": [
    "arr = np.array([11,22,33,44])"
   ]
  },
  {
   "cell_type": "code",
   "execution_count": 9,
   "id": "a90435d6",
   "metadata": {},
   "outputs": [
    {
     "data": {
      "text/plain": [
       "Ali      11\n",
       "Veli     22\n",
       "Ayşe     33\n",
       "Fatma    44\n",
       "dtype: int32"
      ]
     },
     "execution_count": 9,
     "metadata": {},
     "output_type": "execute_result"
    }
   ],
   "source": [
    "pd.Series(arr,labels_list)"
   ]
  },
  {
   "cell_type": "code",
   "execution_count": 10,
   "id": "b543d0c4",
   "metadata": {},
   "outputs": [
    {
     "data": {
      "text/plain": [
       "a    11\n",
       "b    22\n",
       "c    33\n",
       "d    44\n",
       "dtype: int32"
      ]
     },
     "execution_count": 10,
     "metadata": {},
     "output_type": "execute_result"
    }
   ],
   "source": [
    "pd.Series(data = arr, index = [\"a\",\"b\",\"c\",\"d\"])"
   ]
  },
  {
   "cell_type": "code",
   "execution_count": 11,
   "id": "928b60e5",
   "metadata": {},
   "outputs": [],
   "source": [
    " ser17 = pd.Series([5,10,14,20],[\"Buğday\",\"Mısır\",\"Kiraz\",\"Erik\"])"
   ]
  },
  {
   "cell_type": "code",
   "execution_count": 12,
   "id": "824f3168",
   "metadata": {},
   "outputs": [
    {
     "data": {
      "text/plain": [
       "Buğday     5\n",
       "Mısır     10\n",
       "Kiraz     14\n",
       "Erik      20\n",
       "dtype: int64"
      ]
     },
     "execution_count": 12,
     "metadata": {},
     "output_type": "execute_result"
    }
   ],
   "source": [
    "ser17"
   ]
  },
  {
   "cell_type": "code",
   "execution_count": 13,
   "id": "bc5d4241",
   "metadata": {},
   "outputs": [],
   "source": [
    "ser18 = pd.Series([2,8,11,27],[\"Elma\",\"Mısır\",\"Kiraz\",\"Armut\"])"
   ]
  },
  {
   "cell_type": "code",
   "execution_count": 14,
   "id": "bcd3bda0",
   "metadata": {},
   "outputs": [
    {
     "data": {
      "text/plain": [
       "Elma      2\n",
       "Mısır     8\n",
       "Kiraz    11\n",
       "Armut    27\n",
       "dtype: int64"
      ]
     },
     "execution_count": 14,
     "metadata": {},
     "output_type": "execute_result"
    }
   ],
   "source": [
    "ser18"
   ]
  },
  {
   "cell_type": "code",
   "execution_count": 15,
   "id": "3d3a2bce",
   "metadata": {},
   "outputs": [
    {
     "data": {
      "text/plain": [
       "Armut      NaN\n",
       "Buğday     NaN\n",
       "Elma       NaN\n",
       "Erik       NaN\n",
       "Kiraz     25.0\n",
       "Mısır     18.0\n",
       "dtype: float64"
      ]
     },
     "execution_count": 15,
     "metadata": {},
     "output_type": "execute_result"
    }
   ],
   "source": [
    "ser17 + ser18"
   ]
  },
  {
   "cell_type": "code",
   "execution_count": 16,
   "id": "b491848d",
   "metadata": {},
   "outputs": [
    {
     "data": {
      "text/plain": [
       "Armut      NaN\n",
       "Buğday     NaN\n",
       "Elma       NaN\n",
       "Erik       NaN\n",
       "Kiraz     25.0\n",
       "Mısır     18.0\n",
       "dtype: float64"
      ]
     },
     "execution_count": 16,
     "metadata": {},
     "output_type": "execute_result"
    }
   ],
   "source": [
    "total = ser17 + ser18\n",
    "total"
   ]
  },
  {
   "cell_type": "code",
   "execution_count": 17,
   "id": "328ca8c5",
   "metadata": {},
   "outputs": [
    {
     "data": {
      "text/plain": [
       "25.0"
      ]
     },
     "execution_count": 17,
     "metadata": {},
     "output_type": "execute_result"
    }
   ],
   "source": [
    "total[\"Kiraz\"] "
   ]
  },
  {
   "cell_type": "markdown",
   "id": "12dc413e",
   "metadata": {},
   "source": [
    "# DATAFRAME"
   ]
  },
  {
   "cell_type": "code",
   "execution_count": 18,
   "id": "4ea6ae53",
   "metadata": {},
   "outputs": [],
   "source": [
    "import numpy as np\n",
    "import pandas as pd \n",
    "from numpy.random import randn"
   ]
  },
  {
   "cell_type": "code",
   "execution_count": 19,
   "id": "9694b314",
   "metadata": {},
   "outputs": [
    {
     "data": {
      "text/plain": [
       "array([[-1.62441028,  0.24807184, -2.18538093],\n",
       "       [ 0.84676226, -0.51263629,  0.31345963],\n",
       "       [ 0.01287534, -0.74537025,  3.27890086]])"
      ]
     },
     "execution_count": 19,
     "metadata": {},
     "output_type": "execute_result"
    }
   ],
   "source": [
    "randn(3,3)"
   ]
  },
  {
   "cell_type": "code",
   "execution_count": 21,
   "id": "b40898d7",
   "metadata": {},
   "outputs": [
    {
     "data": {
      "text/html": [
       "<div>\n",
       "<style scoped>\n",
       "    .dataframe tbody tr th:only-of-type {\n",
       "        vertical-align: middle;\n",
       "    }\n",
       "\n",
       "    .dataframe tbody tr th {\n",
       "        vertical-align: top;\n",
       "    }\n",
       "\n",
       "    .dataframe thead th {\n",
       "        text-align: right;\n",
       "    }\n",
       "</style>\n",
       "<table border=\"1\" class=\"dataframe\">\n",
       "  <thead>\n",
       "    <tr style=\"text-align: right;\">\n",
       "      <th></th>\n",
       "      <th>1</th>\n",
       "      <th>2</th>\n",
       "      <th>3</th>\n",
       "    </tr>\n",
       "  </thead>\n",
       "  <tbody>\n",
       "    <tr>\n",
       "      <th>A</th>\n",
       "      <td>-0.253194</td>\n",
       "      <td>-0.454731</td>\n",
       "      <td>1.356949</td>\n",
       "    </tr>\n",
       "    <tr>\n",
       "      <th>B</th>\n",
       "      <td>-1.543790</td>\n",
       "      <td>0.447978</td>\n",
       "      <td>-0.788961</td>\n",
       "    </tr>\n",
       "    <tr>\n",
       "      <th>C</th>\n",
       "      <td>1.060588</td>\n",
       "      <td>-0.572294</td>\n",
       "      <td>-0.515573</td>\n",
       "    </tr>\n",
       "  </tbody>\n",
       "</table>\n",
       "</div>"
      ],
      "text/plain": [
       "          1         2         3\n",
       "A -0.253194 -0.454731  1.356949\n",
       "B -1.543790  0.447978 -0.788961\n",
       "C  1.060588 -0.572294 -0.515573"
      ]
     },
     "execution_count": 21,
     "metadata": {},
     "output_type": "execute_result"
    }
   ],
   "source": [
    "df = pd.DataFrame(data = randn(3,3), index = [\"A\",\"B\",\"C\"],columns = [\"1\",\"2\",\"3\"])\n",
    "df"
   ]
  },
  {
   "cell_type": "code",
   "execution_count": 22,
   "id": "b9558252",
   "metadata": {},
   "outputs": [
    {
     "data": {
      "text/plain": [
       "A   -0.253194\n",
       "B   -1.543790\n",
       "C    1.060588\n",
       "Name: 1, dtype: float64"
      ]
     },
     "execution_count": 22,
     "metadata": {},
     "output_type": "execute_result"
    }
   ],
   "source": [
    "df[\"1\"]"
   ]
  },
  {
   "cell_type": "code",
   "execution_count": 23,
   "id": "8bb3e943",
   "metadata": {},
   "outputs": [
    {
     "data": {
      "text/plain": [
       "pandas.core.series.Series"
      ]
     },
     "execution_count": 23,
     "metadata": {},
     "output_type": "execute_result"
    }
   ],
   "source": [
    "type(df[\"1\"])"
   ]
  },
  {
   "cell_type": "code",
   "execution_count": 24,
   "id": "2c4981e9",
   "metadata": {},
   "outputs": [
    {
     "data": {
      "text/plain": [
       "1   -1.543790\n",
       "2    0.447978\n",
       "3   -0.788961\n",
       "Name: B, dtype: float64"
      ]
     },
     "execution_count": 24,
     "metadata": {},
     "output_type": "execute_result"
    }
   ],
   "source": [
    "df.loc[\"B\"]"
   ]
  },
  {
   "cell_type": "markdown",
   "id": "7badd6a8",
   "metadata": {},
   "source": [
    "# DATAFRAME FILTER"
   ]
  },
  {
   "cell_type": "code",
   "execution_count": 31,
   "id": "1c877112",
   "metadata": {},
   "outputs": [],
   "source": [
    "df2 = pd.DataFrame(randn(4,3),[\"A\",\"B\",\"C\",\"D\"],[\"BİR\",\"İKİ\",\"ÜÇ\"])"
   ]
  },
  {
   "cell_type": "code",
   "execution_count": 32,
   "id": "aaae36c8",
   "metadata": {},
   "outputs": [
    {
     "data": {
      "text/html": [
       "<div>\n",
       "<style scoped>\n",
       "    .dataframe tbody tr th:only-of-type {\n",
       "        vertical-align: middle;\n",
       "    }\n",
       "\n",
       "    .dataframe tbody tr th {\n",
       "        vertical-align: top;\n",
       "    }\n",
       "\n",
       "    .dataframe thead th {\n",
       "        text-align: right;\n",
       "    }\n",
       "</style>\n",
       "<table border=\"1\" class=\"dataframe\">\n",
       "  <thead>\n",
       "    <tr style=\"text-align: right;\">\n",
       "      <th></th>\n",
       "      <th>BİR</th>\n",
       "      <th>İKİ</th>\n",
       "      <th>ÜÇ</th>\n",
       "    </tr>\n",
       "  </thead>\n",
       "  <tbody>\n",
       "    <tr>\n",
       "      <th>A</th>\n",
       "      <td>-0.483938</td>\n",
       "      <td>1.003943</td>\n",
       "      <td>-0.248704</td>\n",
       "    </tr>\n",
       "    <tr>\n",
       "      <th>B</th>\n",
       "      <td>-0.169426</td>\n",
       "      <td>-0.516191</td>\n",
       "      <td>-0.387354</td>\n",
       "    </tr>\n",
       "    <tr>\n",
       "      <th>C</th>\n",
       "      <td>1.180957</td>\n",
       "      <td>1.867278</td>\n",
       "      <td>-0.379567</td>\n",
       "    </tr>\n",
       "    <tr>\n",
       "      <th>D</th>\n",
       "      <td>1.028321</td>\n",
       "      <td>-0.253864</td>\n",
       "      <td>1.987267</td>\n",
       "    </tr>\n",
       "  </tbody>\n",
       "</table>\n",
       "</div>"
      ],
      "text/plain": [
       "        BİR       İKİ        ÜÇ\n",
       "A -0.483938  1.003943 -0.248704\n",
       "B -0.169426 -0.516191 -0.387354\n",
       "C  1.180957  1.867278 -0.379567\n",
       "D  1.028321 -0.253864  1.987267"
      ]
     },
     "execution_count": 32,
     "metadata": {},
     "output_type": "execute_result"
    }
   ],
   "source": [
    "df2"
   ]
  },
  {
   "cell_type": "code",
   "execution_count": 33,
   "id": "9a05cf91",
   "metadata": {},
   "outputs": [
    {
     "data": {
      "text/html": [
       "<div>\n",
       "<style scoped>\n",
       "    .dataframe tbody tr th:only-of-type {\n",
       "        vertical-align: middle;\n",
       "    }\n",
       "\n",
       "    .dataframe tbody tr th {\n",
       "        vertical-align: top;\n",
       "    }\n",
       "\n",
       "    .dataframe thead th {\n",
       "        text-align: right;\n",
       "    }\n",
       "</style>\n",
       "<table border=\"1\" class=\"dataframe\">\n",
       "  <thead>\n",
       "    <tr style=\"text-align: right;\">\n",
       "      <th></th>\n",
       "      <th>BİR</th>\n",
       "      <th>İKİ</th>\n",
       "      <th>ÜÇ</th>\n",
       "    </tr>\n",
       "  </thead>\n",
       "  <tbody>\n",
       "    <tr>\n",
       "      <th>A</th>\n",
       "      <td>False</td>\n",
       "      <td>True</td>\n",
       "      <td>False</td>\n",
       "    </tr>\n",
       "    <tr>\n",
       "      <th>B</th>\n",
       "      <td>False</td>\n",
       "      <td>False</td>\n",
       "      <td>False</td>\n",
       "    </tr>\n",
       "    <tr>\n",
       "      <th>C</th>\n",
       "      <td>True</td>\n",
       "      <td>True</td>\n",
       "      <td>False</td>\n",
       "    </tr>\n",
       "    <tr>\n",
       "      <th>D</th>\n",
       "      <td>True</td>\n",
       "      <td>False</td>\n",
       "      <td>True</td>\n",
       "    </tr>\n",
       "  </tbody>\n",
       "</table>\n",
       "</div>"
      ],
      "text/plain": [
       "     BİR    İKİ     ÜÇ\n",
       "A  False   True  False\n",
       "B  False  False  False\n",
       "C   True   True  False\n",
       "D   True  False   True"
      ]
     },
     "execution_count": 33,
     "metadata": {},
     "output_type": "execute_result"
    }
   ],
   "source": [
    "df2 > 1"
   ]
  },
  {
   "cell_type": "code",
   "execution_count": 35,
   "id": "bcb36836",
   "metadata": {},
   "outputs": [
    {
     "data": {
      "text/html": [
       "<div>\n",
       "<style scoped>\n",
       "    .dataframe tbody tr th:only-of-type {\n",
       "        vertical-align: middle;\n",
       "    }\n",
       "\n",
       "    .dataframe tbody tr th {\n",
       "        vertical-align: top;\n",
       "    }\n",
       "\n",
       "    .dataframe thead th {\n",
       "        text-align: right;\n",
       "    }\n",
       "</style>\n",
       "<table border=\"1\" class=\"dataframe\">\n",
       "  <thead>\n",
       "    <tr style=\"text-align: right;\">\n",
       "      <th></th>\n",
       "      <th>BİR</th>\n",
       "      <th>İKİ</th>\n",
       "      <th>ÜÇ</th>\n",
       "    </tr>\n",
       "  </thead>\n",
       "  <tbody>\n",
       "    <tr>\n",
       "      <th>A</th>\n",
       "      <td>False</td>\n",
       "      <td>True</td>\n",
       "      <td>False</td>\n",
       "    </tr>\n",
       "    <tr>\n",
       "      <th>B</th>\n",
       "      <td>False</td>\n",
       "      <td>False</td>\n",
       "      <td>False</td>\n",
       "    </tr>\n",
       "    <tr>\n",
       "      <th>C</th>\n",
       "      <td>True</td>\n",
       "      <td>True</td>\n",
       "      <td>False</td>\n",
       "    </tr>\n",
       "    <tr>\n",
       "      <th>D</th>\n",
       "      <td>True</td>\n",
       "      <td>False</td>\n",
       "      <td>True</td>\n",
       "    </tr>\n",
       "  </tbody>\n",
       "</table>\n",
       "</div>"
      ],
      "text/plain": [
       "     BİR    İKİ     ÜÇ\n",
       "A  False   True  False\n",
       "B  False  False  False\n",
       "C   True   True  False\n",
       "D   True  False   True"
      ]
     },
     "execution_count": 35,
     "metadata": {},
     "output_type": "execute_result"
    }
   ],
   "source": [
    "booleanDf = df2 >1\n",
    "df "
   ]
  },
  {
   "cell_type": "code",
   "execution_count": null,
   "id": "c989b89a",
   "metadata": {},
   "outputs": [],
   "source": [
    " "
   ]
  }
 ],
 "metadata": {
  "kernelspec": {
   "display_name": "Python 3 (ipykernel)",
   "language": "python",
   "name": "python3"
  },
  "language_info": {
   "codemirror_mode": {
    "name": "ipython",
    "version": 3
   },
   "file_extension": ".py",
   "mimetype": "text/x-python",
   "name": "python",
   "nbconvert_exporter": "python",
   "pygments_lexer": "ipython3",
   "version": "3.9.7"
  }
 },
 "nbformat": 4,
 "nbformat_minor": 5
}
